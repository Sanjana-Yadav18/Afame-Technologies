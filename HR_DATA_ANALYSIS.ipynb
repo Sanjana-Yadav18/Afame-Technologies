{
  "nbformat": 4,
  "nbformat_minor": 0,
  "metadata": {
    "colab": {
      "provenance": []
    },
    "kernelspec": {
      "name": "python3",
      "display_name": "Python 3"
    },
    "language_info": {
      "name": "python"
    }
  },
  "cells": [
    {
      "cell_type": "code",
      "execution_count": 1,
      "metadata": {
        "id": "TeJqiHTyIHJ3"
      },
      "outputs": [],
      "source": [
        "import pandas as pd\n",
        "import numpy as np\n"
      ]
    },
    {
      "cell_type": "code",
      "source": [
        "# Load the dataset\n",
        "data = pd.read_csv('/content/HR Data.csv')\n"
      ],
      "metadata": {
        "id": "wkfFsKoRe9QK"
      },
      "execution_count": 2,
      "outputs": []
    },
    {
      "cell_type": "code",
      "source": [
        "print(data.head(5))"
      ],
      "metadata": {
        "colab": {
          "base_uri": "https://localhost:8080/"
        },
        "id": "xGTwcT-jfKHd",
        "outputId": "34547d0f-13eb-4957-fdf2-6e8e1f6f644b"
      },
      "execution_count": 4,
      "outputs": [
        {
          "output_type": "stream",
          "name": "stdout",
          "text": [
            "   Age Attrition     BusinessTravel  DailyRate              Department  \\\n",
            "0   41       Yes      Travel_Rarely       1102                   Sales   \n",
            "1   49        No  Travel_Frequently        279  Research & Development   \n",
            "2   37       Yes      Travel_Rarely       1373  Research & Development   \n",
            "3   33        No  Travel_Frequently       1392  Research & Development   \n",
            "4   27        No      Travel_Rarely        591  Research & Development   \n",
            "\n",
            "   DistanceFromHome  Education EducationField  EmployeeCount  EmployeeNumber  \\\n",
            "0                 1          2  Life Sciences              1               1   \n",
            "1                 8          1  Life Sciences              1               2   \n",
            "2                 2          2          Other              1               4   \n",
            "3                 3          4  Life Sciences              1               5   \n",
            "4                 2          1        Medical              1               7   \n",
            "\n",
            "   ...  RelationshipSatisfaction StandardHours  StockOptionLevel  \\\n",
            "0  ...                         1            80                 0   \n",
            "1  ...                         4            80                 1   \n",
            "2  ...                         2            80                 0   \n",
            "3  ...                         3            80                 0   \n",
            "4  ...                         4            80                 1   \n",
            "\n",
            "   TotalWorkingYears  TrainingTimesLastYear WorkLifeBalance  YearsAtCompany  \\\n",
            "0                  8                      0               1               6   \n",
            "1                 10                      3               3              10   \n",
            "2                  7                      3               3               0   \n",
            "3                  8                      3               3               8   \n",
            "4                  6                      3               3               2   \n",
            "\n",
            "  YearsInCurrentRole  YearsSinceLastPromotion  YearsWithCurrManager  \n",
            "0                  4                        0                     5  \n",
            "1                  7                        1                     7  \n",
            "2                  0                        0                     0  \n",
            "3                  7                        3                     0  \n",
            "4                  2                        2                     2  \n",
            "\n",
            "[5 rows x 35 columns]\n"
          ]
        }
      ]
    },
    {
      "cell_type": "code",
      "source": [
        "print(data.info())"
      ],
      "metadata": {
        "colab": {
          "base_uri": "https://localhost:8080/"
        },
        "id": "zFWG4IDnfP2D",
        "outputId": "73d28116-0a05-457d-ca48-f35cb2498bb9"
      },
      "execution_count": 5,
      "outputs": [
        {
          "output_type": "stream",
          "name": "stdout",
          "text": [
            "<class 'pandas.core.frame.DataFrame'>\n",
            "RangeIndex: 1470 entries, 0 to 1469\n",
            "Data columns (total 35 columns):\n",
            " #   Column                    Non-Null Count  Dtype \n",
            "---  ------                    --------------  ----- \n",
            " 0   Age                       1470 non-null   int64 \n",
            " 1   Attrition                 1470 non-null   object\n",
            " 2   BusinessTravel            1470 non-null   object\n",
            " 3   DailyRate                 1470 non-null   int64 \n",
            " 4   Department                1470 non-null   object\n",
            " 5   DistanceFromHome          1470 non-null   int64 \n",
            " 6   Education                 1470 non-null   int64 \n",
            " 7   EducationField            1470 non-null   object\n",
            " 8   EmployeeCount             1470 non-null   int64 \n",
            " 9   EmployeeNumber            1470 non-null   int64 \n",
            " 10  EnvironmentSatisfaction   1470 non-null   int64 \n",
            " 11  Gender                    1470 non-null   object\n",
            " 12  HourlyRate                1470 non-null   int64 \n",
            " 13  JobInvolvement            1470 non-null   int64 \n",
            " 14  JobLevel                  1470 non-null   int64 \n",
            " 15  JobRole                   1470 non-null   object\n",
            " 16  JobSatisfaction           1470 non-null   int64 \n",
            " 17  MaritalStatus             1470 non-null   object\n",
            " 18  MonthlyIncome             1470 non-null   int64 \n",
            " 19  MonthlyRate               1470 non-null   int64 \n",
            " 20  NumCompaniesWorked        1470 non-null   int64 \n",
            " 21  Over18                    1470 non-null   object\n",
            " 22  OverTime                  1470 non-null   object\n",
            " 23  PercentSalaryHike         1470 non-null   int64 \n",
            " 24  PerformanceRating         1470 non-null   int64 \n",
            " 25  RelationshipSatisfaction  1470 non-null   int64 \n",
            " 26  StandardHours             1470 non-null   int64 \n",
            " 27  StockOptionLevel          1470 non-null   int64 \n",
            " 28  TotalWorkingYears         1470 non-null   int64 \n",
            " 29  TrainingTimesLastYear     1470 non-null   int64 \n",
            " 30  WorkLifeBalance           1470 non-null   int64 \n",
            " 31  YearsAtCompany            1470 non-null   int64 \n",
            " 32  YearsInCurrentRole        1470 non-null   int64 \n",
            " 33  YearsSinceLastPromotion   1470 non-null   int64 \n",
            " 34  YearsWithCurrManager      1470 non-null   int64 \n",
            "dtypes: int64(26), object(9)\n",
            "memory usage: 402.1+ KB\n",
            "None\n"
          ]
        }
      ]
    },
    {
      "cell_type": "code",
      "source": [
        "print(data.describe())"
      ],
      "metadata": {
        "colab": {
          "base_uri": "https://localhost:8080/"
        },
        "id": "qvnRxmqufUjK",
        "outputId": "9b54c802-f417-4d82-8dda-776b067cf570"
      },
      "execution_count": 6,
      "outputs": [
        {
          "output_type": "stream",
          "name": "stdout",
          "text": [
            "               Age    DailyRate  DistanceFromHome    Education  EmployeeCount  \\\n",
            "count  1470.000000  1470.000000       1470.000000  1470.000000         1470.0   \n",
            "mean     36.923810   802.485714          9.192517     2.912925            1.0   \n",
            "std       9.135373   403.509100          8.106864     1.024165            0.0   \n",
            "min      18.000000   102.000000          1.000000     1.000000            1.0   \n",
            "25%      30.000000   465.000000          2.000000     2.000000            1.0   \n",
            "50%      36.000000   802.000000          7.000000     3.000000            1.0   \n",
            "75%      43.000000  1157.000000         14.000000     4.000000            1.0   \n",
            "max      60.000000  1499.000000         29.000000     5.000000            1.0   \n",
            "\n",
            "       EmployeeNumber  EnvironmentSatisfaction   HourlyRate  JobInvolvement  \\\n",
            "count     1470.000000              1470.000000  1470.000000     1470.000000   \n",
            "mean      1024.865306                 2.721769    65.891156        2.729932   \n",
            "std        602.024335                 1.093082    20.329428        0.711561   \n",
            "min          1.000000                 1.000000    30.000000        1.000000   \n",
            "25%        491.250000                 2.000000    48.000000        2.000000   \n",
            "50%       1020.500000                 3.000000    66.000000        3.000000   \n",
            "75%       1555.750000                 4.000000    83.750000        3.000000   \n",
            "max       2068.000000                 4.000000   100.000000        4.000000   \n",
            "\n",
            "          JobLevel  ...  RelationshipSatisfaction  StandardHours  \\\n",
            "count  1470.000000  ...               1470.000000         1470.0   \n",
            "mean      2.063946  ...                  2.712245           80.0   \n",
            "std       1.106940  ...                  1.081209            0.0   \n",
            "min       1.000000  ...                  1.000000           80.0   \n",
            "25%       1.000000  ...                  2.000000           80.0   \n",
            "50%       2.000000  ...                  3.000000           80.0   \n",
            "75%       3.000000  ...                  4.000000           80.0   \n",
            "max       5.000000  ...                  4.000000           80.0   \n",
            "\n",
            "       StockOptionLevel  TotalWorkingYears  TrainingTimesLastYear  \\\n",
            "count       1470.000000        1470.000000            1470.000000   \n",
            "mean           0.793878          11.279592               2.799320   \n",
            "std            0.852077           7.780782               1.289271   \n",
            "min            0.000000           0.000000               0.000000   \n",
            "25%            0.000000           6.000000               2.000000   \n",
            "50%            1.000000          10.000000               3.000000   \n",
            "75%            1.000000          15.000000               3.000000   \n",
            "max            3.000000          40.000000               6.000000   \n",
            "\n",
            "       WorkLifeBalance  YearsAtCompany  YearsInCurrentRole  \\\n",
            "count      1470.000000     1470.000000         1470.000000   \n",
            "mean          2.761224        7.008163            4.229252   \n",
            "std           0.706476        6.126525            3.623137   \n",
            "min           1.000000        0.000000            0.000000   \n",
            "25%           2.000000        3.000000            2.000000   \n",
            "50%           3.000000        5.000000            3.000000   \n",
            "75%           3.000000        9.000000            7.000000   \n",
            "max           4.000000       40.000000           18.000000   \n",
            "\n",
            "       YearsSinceLastPromotion  YearsWithCurrManager  \n",
            "count              1470.000000           1470.000000  \n",
            "mean                  2.187755              4.123129  \n",
            "std                   3.222430              3.568136  \n",
            "min                   0.000000              0.000000  \n",
            "25%                   0.000000              2.000000  \n",
            "50%                   1.000000              3.000000  \n",
            "75%                   3.000000              7.000000  \n",
            "max                  15.000000             17.000000  \n",
            "\n",
            "[8 rows x 26 columns]\n"
          ]
        }
      ]
    },
    {
      "cell_type": "code",
      "source": [
        "print(data.shape)"
      ],
      "metadata": {
        "colab": {
          "base_uri": "https://localhost:8080/"
        },
        "id": "k6EApwDafXQh",
        "outputId": "d4ba908f-5f67-4e07-8a5a-1a85bdd20ab4"
      },
      "execution_count": 7,
      "outputs": [
        {
          "output_type": "stream",
          "name": "stdout",
          "text": [
            "(1470, 35)\n"
          ]
        }
      ]
    },
    {
      "cell_type": "code",
      "source": [
        "print(data.isnull().sum())\n"
      ],
      "metadata": {
        "colab": {
          "base_uri": "https://localhost:8080/"
        },
        "id": "akC9SGzofZQ3",
        "outputId": "72f0341f-5d83-46d0-ccec-9bd346185bc0"
      },
      "execution_count": 8,
      "outputs": [
        {
          "output_type": "stream",
          "name": "stdout",
          "text": [
            "Age                         0\n",
            "Attrition                   0\n",
            "BusinessTravel              0\n",
            "DailyRate                   0\n",
            "Department                  0\n",
            "DistanceFromHome            0\n",
            "Education                   0\n",
            "EducationField              0\n",
            "EmployeeCount               0\n",
            "EmployeeNumber              0\n",
            "EnvironmentSatisfaction     0\n",
            "Gender                      0\n",
            "HourlyRate                  0\n",
            "JobInvolvement              0\n",
            "JobLevel                    0\n",
            "JobRole                     0\n",
            "JobSatisfaction             0\n",
            "MaritalStatus               0\n",
            "MonthlyIncome               0\n",
            "MonthlyRate                 0\n",
            "NumCompaniesWorked          0\n",
            "Over18                      0\n",
            "OverTime                    0\n",
            "PercentSalaryHike           0\n",
            "PerformanceRating           0\n",
            "RelationshipSatisfaction    0\n",
            "StandardHours               0\n",
            "StockOptionLevel            0\n",
            "TotalWorkingYears           0\n",
            "TrainingTimesLastYear       0\n",
            "WorkLifeBalance             0\n",
            "YearsAtCompany              0\n",
            "YearsInCurrentRole          0\n",
            "YearsSinceLastPromotion     0\n",
            "YearsWithCurrManager        0\n",
            "dtype: int64\n"
          ]
        }
      ]
    },
    {
      "cell_type": "code",
      "source": [
        "# Example: Drop columns 'ColumnA' and 'ColumnB'\n",
        "data.drop(columns=['DailyRate', 'EmployeeCount', 'HourlyRate', 'MonthlyRate', 'StandardHours', 'Over18'], inplace=True)\n"
      ],
      "metadata": {
        "id": "P0_ioSbdfb9p"
      },
      "execution_count": 13,
      "outputs": []
    },
    {
      "cell_type": "code",
      "source": [
        "# Rename columns\n",
        "columns_to_rename = {\n",
        "    'BusinessTravel': 'Business_Travel',\n",
        "    'DailyRate': 'Daily_Rate',\n",
        "    'DistanceFromHome': 'Distance_From_Home',\n",
        "    'EducationField': 'Education_Field',\n",
        "    'EnvironmentSatisfaction': 'Environment_Satisfaction',\n",
        "    'HourlyRate': 'Hourly_Rate',\n",
        "    'JobLevel': 'Job_Level',\n",
        "    'JobRole': 'Job_Role',\n",
        "    'JobSatisfaction': 'Job_Satisfaction',\n",
        "    'MaritalStatus': 'Marital_Status',\n",
        "    'MonthlyIncome': 'Monthly_Income',\n",
        "    'MonthlyRate': 'Monthly_Rate',\n",
        "    'NumCompaniesWorked': 'Num_Companies_Worked',\n",
        "    'OverTime': 'Over_Time',\n",
        "    'PercentSalaryHike': 'Percent_Salary_Hike',\n",
        "    'PerformanceRating': 'Performance_Rating',\n",
        "    'RelationshipSatisfaction': 'Relationship_Satisfaction',\n",
        "    'StockOptionLevel': 'Stock_Option_Level',\n",
        "    'TotalWorkingYears': 'Total_Working_Years',\n",
        "    'TrainingTimesLastYear': 'Training_Times_Last_Year',\n",
        "    'WorkLifeBalance': 'Work_Life_Balance',\n",
        "    'YearsAtCompany': 'Years_At_Company',\n",
        "    'YearsInCurrentRole': 'Years_In_Current_Role',\n",
        "    'YearsSinceLastPromotion': 'Years_Since_Last_Promotion',\n",
        "    'YearsWithCurrManager': 'Years_With_Curr_Manager'\n",
        "}\n",
        "\n",
        "data.rename(columns=columns_to_rename, inplace=True)"
      ],
      "metadata": {
        "id": "re8LcF_tj2d2"
      },
      "execution_count": 14,
      "outputs": []
    },
    {
      "cell_type": "code",
      "source": [
        "data.drop_duplicates(inplace=True)\n"
      ],
      "metadata": {
        "id": "q0Ty1PQbiqYh"
      },
      "execution_count": 15,
      "outputs": []
    },
    {
      "cell_type": "code",
      "source": [
        "# Example: Remove leading/trailing spaces in a column\n",
        "data = data.applymap(lambda x: x.strip() if isinstance(x, str) else x)\n",
        "data.dropna(inplace=True)\n",
        "\n",
        "# Example: Convert a column to lowercase\n",
        "string_columns = ['Business_Travel', 'Department', 'Education_Field', 'Gender', 'Job_Role', 'Marital_Status', 'Over_Time']\n",
        "data[string_columns] = data[string_columns].applymap(lambda x: x.lower() if isinstance(x, str) else x)\n",
        "\n",
        "numeric_columns = ['Age', 'Distance_From_Home', 'Environment_Satisfaction', 'Job_Level', 'Job_Satisfaction', 'Monthly_Income',\n",
        "                   'Num_Companies_Worked', 'Percent_Salary_Hike', 'Performance_Rating', 'Relationship_Satisfaction',\n",
        "                   'Stock_Option_Level', 'Total_Working_Years', 'Training_Times_Last_Year', 'Work_Life_Balance',\n",
        "                   'Years_At_Company', 'Years_In_Current_Role', 'Years_Since_Last_Promotion', 'Years_With_Curr_Manager']\n",
        "\n",
        "data[numeric_columns] = data[numeric_columns].apply(pd.to_numeric, errors='coerce')\n"
      ],
      "metadata": {
        "id": "aOMjTKxtit_P"
      },
      "execution_count": 18,
      "outputs": []
    },
    {
      "cell_type": "code",
      "source": [
        "# Fill NaN values with the mean of the column\n",
        "# Columns to retain for analysis\n",
        "columns_to_retain = [\n",
        "    'Age', 'Attrition', 'Business_Travel', 'Department', 'Distance_From_Home', 'Education', 'Education_Field',\n",
        "    'Environment_Satisfaction', 'Gender', 'Job_Level', 'Job_Role', 'Job_Satisfaction', 'Marital_Status',\n",
        "    'Monthly_Income', 'Num_Companies_Worked', 'Over_Time', 'Percent_Salary_Hike', 'Performance_Rating',\n",
        "    'Relationship_Satisfaction', 'Stock_Option_Level', 'Total_Working_Years', 'Training_Times_Last_Year',\n",
        "    'Work_Life_Balance', 'Years_At_Company', 'Years_In_Current_Role', 'Years_Since_Last_Promotion',\n",
        "    'Years_With_Curr_Manager'\n",
        "]\n",
        "\n",
        "# Select only the columns to retain\n",
        "data = data[columns_to_retain]\n",
        "\n",
        "# Drop rows with any NaN values in the specified columns\n",
        "data.dropna(inplace=True)\n",
        "\n"
      ],
      "metadata": {
        "id": "i9zYB1SLiuCu"
      },
      "execution_count": 19,
      "outputs": []
    },
    {
      "cell_type": "code",
      "source": [
        "# Example: Convert a column to a categorical type\n",
        "categorical_columns = [\n",
        "    'Attrition', 'Business_Travel', 'Department', 'Education_Field', 'Gender', 'Job_Role', 'Marital_Status', 'Over_Time'\n",
        "]\n",
        "data[categorical_columns] = data[categorical_columns].astype('category')\n",
        "\n",
        "# Convert numeric columns to 'float' or 'int' data type\n",
        "numeric_columns = [\n",
        "    'Age', 'Distance_From_Home', 'Environment_Satisfaction', 'Job_Level', 'Job_Satisfaction', 'Monthly_Income',\n",
        "    'Num_Companies_Worked', 'Percent_Salary_Hike', 'Performance_Rating', 'Relationship_Satisfaction',\n",
        "    'Stock_Option_Level', 'Total_Working_Years', 'Training_Times_Last_Year', 'Work_Life_Balance', 'Years_At_Company',\n",
        "    'Years_In_Current_Role', 'Years_Since_Last_Promotion', 'Years_With_Curr_Manager'\n",
        "]\n",
        "data[numeric_columns] = data[numeric_columns].apply(pd.to_numeric)\n",
        "\n",
        "# Check for unique values in categorical columns to identify inconsistencies\n",
        "for column in categorical_columns:\n",
        "    print(f'Unique values in {column}:')\n",
        "    print(data[column].unique())\n",
        "    print('\\n')\n",
        "\n",
        "# Identify potential outliers in numerical columns\n",
        "# A simple way to do this is to describe the data and look at the min/max values\n",
        "print(data.describe())\n"
      ],
      "metadata": {
        "colab": {
          "base_uri": "https://localhost:8080/"
        },
        "id": "eWTCl4W9i4OZ",
        "outputId": "1cb06bea-7396-40ec-d31f-4a2ae996f426"
      },
      "execution_count": 20,
      "outputs": [
        {
          "output_type": "stream",
          "name": "stdout",
          "text": [
            "Unique values in Attrition:\n",
            "['Yes', 'No']\n",
            "Categories (2, object): ['No', 'Yes']\n",
            "\n",
            "\n",
            "Unique values in Business_Travel:\n",
            "['travel_rarely', 'travel_frequently', 'non-travel']\n",
            "Categories (3, object): ['non-travel', 'travel_frequently', 'travel_rarely']\n",
            "\n",
            "\n",
            "Unique values in Department:\n",
            "['sales', 'research & development', 'human resources']\n",
            "Categories (3, object): ['human resources', 'research & development', 'sales']\n",
            "\n",
            "\n",
            "Unique values in Education_Field:\n",
            "['life sciences', 'other', 'medical', 'marketing', 'technical degree', 'human resources']\n",
            "Categories (6, object): ['human resources', 'life sciences', 'marketing', 'medical', 'other',\n",
            "                         'technical degree']\n",
            "\n",
            "\n",
            "Unique values in Gender:\n",
            "['female', 'male']\n",
            "Categories (2, object): ['female', 'male']\n",
            "\n",
            "\n",
            "Unique values in Job_Role:\n",
            "['sales executive', 'research scientist', 'laboratory technician', 'manufacturing director', 'healthcare representative', 'manager', 'sales representative', 'research director', 'human resources']\n",
            "Categories (9, object): ['healthcare representative', 'human resources', 'laboratory technician', 'manager', ...,\n",
            "                         'research director', 'research scientist', 'sales executive',\n",
            "                         'sales representative']\n",
            "\n",
            "\n",
            "Unique values in Marital_Status:\n",
            "['single', 'married', 'divorced']\n",
            "Categories (3, object): ['divorced', 'married', 'single']\n",
            "\n",
            "\n",
            "Unique values in Over_Time:\n",
            "['yes', 'no']\n",
            "Categories (2, object): ['no', 'yes']\n",
            "\n",
            "\n",
            "               Age  Distance_From_Home    Education  Environment_Satisfaction  \\\n",
            "count  1470.000000         1470.000000  1470.000000               1470.000000   \n",
            "mean     36.923810            9.192517     2.912925                  2.721769   \n",
            "std       9.135373            8.106864     1.024165                  1.093082   \n",
            "min      18.000000            1.000000     1.000000                  1.000000   \n",
            "25%      30.000000            2.000000     2.000000                  2.000000   \n",
            "50%      36.000000            7.000000     3.000000                  3.000000   \n",
            "75%      43.000000           14.000000     4.000000                  4.000000   \n",
            "max      60.000000           29.000000     5.000000                  4.000000   \n",
            "\n",
            "         Job_Level  Job_Satisfaction  Monthly_Income  Num_Companies_Worked  \\\n",
            "count  1470.000000       1470.000000     1470.000000           1470.000000   \n",
            "mean      2.063946          2.728571     6502.931293              2.693197   \n",
            "std       1.106940          1.102846     4707.956783              2.498009   \n",
            "min       1.000000          1.000000     1009.000000              0.000000   \n",
            "25%       1.000000          2.000000     2911.000000              1.000000   \n",
            "50%       2.000000          3.000000     4919.000000              2.000000   \n",
            "75%       3.000000          4.000000     8379.000000              4.000000   \n",
            "max       5.000000          4.000000    19999.000000              9.000000   \n",
            "\n",
            "       Percent_Salary_Hike  Performance_Rating  Relationship_Satisfaction  \\\n",
            "count          1470.000000         1470.000000                1470.000000   \n",
            "mean             15.209524            3.153741                   2.712245   \n",
            "std               3.659938            0.360824                   1.081209   \n",
            "min              11.000000            3.000000                   1.000000   \n",
            "25%              12.000000            3.000000                   2.000000   \n",
            "50%              14.000000            3.000000                   3.000000   \n",
            "75%              18.000000            3.000000                   4.000000   \n",
            "max              25.000000            4.000000                   4.000000   \n",
            "\n",
            "       Stock_Option_Level  Total_Working_Years  Training_Times_Last_Year  \\\n",
            "count         1470.000000          1470.000000               1470.000000   \n",
            "mean             0.793878            11.279592                  2.799320   \n",
            "std              0.852077             7.780782                  1.289271   \n",
            "min              0.000000             0.000000                  0.000000   \n",
            "25%              0.000000             6.000000                  2.000000   \n",
            "50%              1.000000            10.000000                  3.000000   \n",
            "75%              1.000000            15.000000                  3.000000   \n",
            "max              3.000000            40.000000                  6.000000   \n",
            "\n",
            "       Work_Life_Balance  Years_At_Company  Years_In_Current_Role  \\\n",
            "count        1470.000000       1470.000000            1470.000000   \n",
            "mean            2.761224          7.008163               4.229252   \n",
            "std             0.706476          6.126525               3.623137   \n",
            "min             1.000000          0.000000               0.000000   \n",
            "25%             2.000000          3.000000               2.000000   \n",
            "50%             3.000000          5.000000               3.000000   \n",
            "75%             3.000000          9.000000               7.000000   \n",
            "max             4.000000         40.000000              18.000000   \n",
            "\n",
            "       Years_Since_Last_Promotion  Years_With_Curr_Manager  \n",
            "count                 1470.000000              1470.000000  \n",
            "mean                     2.187755                 4.123129  \n",
            "std                      3.222430                 3.568136  \n",
            "min                      0.000000                 0.000000  \n",
            "25%                      0.000000                 2.000000  \n",
            "50%                      1.000000                 3.000000  \n",
            "75%                      3.000000                 7.000000  \n",
            "max                     15.000000                17.000000  \n"
          ]
        }
      ]
    },
    {
      "cell_type": "code",
      "source": [
        "print(data.head())\n",
        "print(data.info())\n",
        "print(data.describe())\n",
        "print(data.shape)\n"
      ],
      "metadata": {
        "colab": {
          "base_uri": "https://localhost:8080/"
        },
        "id": "o1JcaTdHi7mz",
        "outputId": "04217c27-fe1c-4627-933e-8ccb9ef80051"
      },
      "execution_count": 21,
      "outputs": [
        {
          "output_type": "stream",
          "name": "stdout",
          "text": [
            "   Age Attrition    Business_Travel              Department  \\\n",
            "0   41       Yes      travel_rarely                   sales   \n",
            "1   49        No  travel_frequently  research & development   \n",
            "2   37       Yes      travel_rarely  research & development   \n",
            "3   33        No  travel_frequently  research & development   \n",
            "4   27        No      travel_rarely  research & development   \n",
            "\n",
            "   Distance_From_Home  Education Education_Field  Environment_Satisfaction  \\\n",
            "0                   1          2   life sciences                         2   \n",
            "1                   8          1   life sciences                         3   \n",
            "2                   2          2           other                         4   \n",
            "3                   3          4   life sciences                         4   \n",
            "4                   2          1         medical                         1   \n",
            "\n",
            "   Gender  Job_Level  ... Performance_Rating  Relationship_Satisfaction  \\\n",
            "0  female          2  ...                  3                          1   \n",
            "1    male          2  ...                  4                          4   \n",
            "2    male          1  ...                  3                          2   \n",
            "3  female          1  ...                  3                          3   \n",
            "4    male          1  ...                  3                          4   \n",
            "\n",
            "  Stock_Option_Level  Total_Working_Years  Training_Times_Last_Year  \\\n",
            "0                  0                    8                         0   \n",
            "1                  1                   10                         3   \n",
            "2                  0                    7                         3   \n",
            "3                  0                    8                         3   \n",
            "4                  1                    6                         3   \n",
            "\n",
            "  Work_Life_Balance  Years_At_Company  Years_In_Current_Role  \\\n",
            "0                 1                 6                      4   \n",
            "1                 3                10                      7   \n",
            "2                 3                 0                      0   \n",
            "3                 3                 8                      7   \n",
            "4                 3                 2                      2   \n",
            "\n",
            "   Years_Since_Last_Promotion  Years_With_Curr_Manager  \n",
            "0                           0                        5  \n",
            "1                           1                        7  \n",
            "2                           0                        0  \n",
            "3                           3                        0  \n",
            "4                           2                        2  \n",
            "\n",
            "[5 rows x 27 columns]\n",
            "<class 'pandas.core.frame.DataFrame'>\n",
            "RangeIndex: 1470 entries, 0 to 1469\n",
            "Data columns (total 27 columns):\n",
            " #   Column                      Non-Null Count  Dtype   \n",
            "---  ------                      --------------  -----   \n",
            " 0   Age                         1470 non-null   int64   \n",
            " 1   Attrition                   1470 non-null   category\n",
            " 2   Business_Travel             1470 non-null   category\n",
            " 3   Department                  1470 non-null   category\n",
            " 4   Distance_From_Home          1470 non-null   int64   \n",
            " 5   Education                   1470 non-null   int64   \n",
            " 6   Education_Field             1470 non-null   category\n",
            " 7   Environment_Satisfaction    1470 non-null   int64   \n",
            " 8   Gender                      1470 non-null   category\n",
            " 9   Job_Level                   1470 non-null   int64   \n",
            " 10  Job_Role                    1470 non-null   category\n",
            " 11  Job_Satisfaction            1470 non-null   int64   \n",
            " 12  Marital_Status              1470 non-null   category\n",
            " 13  Monthly_Income              1470 non-null   int64   \n",
            " 14  Num_Companies_Worked        1470 non-null   int64   \n",
            " 15  Over_Time                   1470 non-null   category\n",
            " 16  Percent_Salary_Hike         1470 non-null   int64   \n",
            " 17  Performance_Rating          1470 non-null   int64   \n",
            " 18  Relationship_Satisfaction   1470 non-null   int64   \n",
            " 19  Stock_Option_Level          1470 non-null   int64   \n",
            " 20  Total_Working_Years         1470 non-null   int64   \n",
            " 21  Training_Times_Last_Year    1470 non-null   int64   \n",
            " 22  Work_Life_Balance           1470 non-null   int64   \n",
            " 23  Years_At_Company            1470 non-null   int64   \n",
            " 24  Years_In_Current_Role       1470 non-null   int64   \n",
            " 25  Years_Since_Last_Promotion  1470 non-null   int64   \n",
            " 26  Years_With_Curr_Manager     1470 non-null   int64   \n",
            "dtypes: category(8), int64(19)\n",
            "memory usage: 231.1 KB\n",
            "None\n",
            "               Age  Distance_From_Home    Education  Environment_Satisfaction  \\\n",
            "count  1470.000000         1470.000000  1470.000000               1470.000000   \n",
            "mean     36.923810            9.192517     2.912925                  2.721769   \n",
            "std       9.135373            8.106864     1.024165                  1.093082   \n",
            "min      18.000000            1.000000     1.000000                  1.000000   \n",
            "25%      30.000000            2.000000     2.000000                  2.000000   \n",
            "50%      36.000000            7.000000     3.000000                  3.000000   \n",
            "75%      43.000000           14.000000     4.000000                  4.000000   \n",
            "max      60.000000           29.000000     5.000000                  4.000000   \n",
            "\n",
            "         Job_Level  Job_Satisfaction  Monthly_Income  Num_Companies_Worked  \\\n",
            "count  1470.000000       1470.000000     1470.000000           1470.000000   \n",
            "mean      2.063946          2.728571     6502.931293              2.693197   \n",
            "std       1.106940          1.102846     4707.956783              2.498009   \n",
            "min       1.000000          1.000000     1009.000000              0.000000   \n",
            "25%       1.000000          2.000000     2911.000000              1.000000   \n",
            "50%       2.000000          3.000000     4919.000000              2.000000   \n",
            "75%       3.000000          4.000000     8379.000000              4.000000   \n",
            "max       5.000000          4.000000    19999.000000              9.000000   \n",
            "\n",
            "       Percent_Salary_Hike  Performance_Rating  Relationship_Satisfaction  \\\n",
            "count          1470.000000         1470.000000                1470.000000   \n",
            "mean             15.209524            3.153741                   2.712245   \n",
            "std               3.659938            0.360824                   1.081209   \n",
            "min              11.000000            3.000000                   1.000000   \n",
            "25%              12.000000            3.000000                   2.000000   \n",
            "50%              14.000000            3.000000                   3.000000   \n",
            "75%              18.000000            3.000000                   4.000000   \n",
            "max              25.000000            4.000000                   4.000000   \n",
            "\n",
            "       Stock_Option_Level  Total_Working_Years  Training_Times_Last_Year  \\\n",
            "count         1470.000000          1470.000000               1470.000000   \n",
            "mean             0.793878            11.279592                  2.799320   \n",
            "std              0.852077             7.780782                  1.289271   \n",
            "min              0.000000             0.000000                  0.000000   \n",
            "25%              0.000000             6.000000                  2.000000   \n",
            "50%              1.000000            10.000000                  3.000000   \n",
            "75%              1.000000            15.000000                  3.000000   \n",
            "max              3.000000            40.000000                  6.000000   \n",
            "\n",
            "       Work_Life_Balance  Years_At_Company  Years_In_Current_Role  \\\n",
            "count        1470.000000       1470.000000            1470.000000   \n",
            "mean            2.761224          7.008163               4.229252   \n",
            "std             0.706476          6.126525               3.623137   \n",
            "min             1.000000          0.000000               0.000000   \n",
            "25%             2.000000          3.000000               2.000000   \n",
            "50%             3.000000          5.000000               3.000000   \n",
            "75%             3.000000          9.000000               7.000000   \n",
            "max             4.000000         40.000000              18.000000   \n",
            "\n",
            "       Years_Since_Last_Promotion  Years_With_Curr_Manager  \n",
            "count                 1470.000000              1470.000000  \n",
            "mean                     2.187755                 4.123129  \n",
            "std                      3.222430                 3.568136  \n",
            "min                      0.000000                 0.000000  \n",
            "25%                      0.000000                 2.000000  \n",
            "50%                      1.000000                 3.000000  \n",
            "75%                      3.000000                 7.000000  \n",
            "max                     15.000000                17.000000  \n",
            "(1470, 27)\n"
          ]
        }
      ]
    }
  ]
}